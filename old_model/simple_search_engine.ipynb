{
  "nbformat": 4,
  "nbformat_minor": 0,
  "metadata": {
    "colab": {
      "provenance": []
    },
    "kernelspec": {
      "name": "python3",
      "display_name": "Python 3"
    },
    "language_info": {
      "name": "python"
    }
  },
  "cells": [
    {
      "cell_type": "code",
      "execution_count": 2,
      "metadata": {
        "id": "hN3nYESbE736"
      },
      "outputs": [],
      "source": [
        "import numpy as np\n",
        "import pandas as pd\n",
        "\n",
        "from sklearn.feature_extraction.text import TfidfVectorizer\n",
        "from sklearn.feature_extraction.text import CountVectorizer\n",
        "from sklearn.metrics.pairwise import cosine_similarity"
      ]
    },
    {
      "cell_type": "code",
      "source": [
        "data = pd.read_csv('songdata.csv')"
      ],
      "metadata": {
        "id": "3rmi_gRqFihq"
      },
      "execution_count": 4,
      "outputs": []
    },
    {
      "cell_type": "code",
      "source": [
        "data.shape"
      ],
      "metadata": {
        "colab": {
          "base_uri": "https://localhost:8080/"
        },
        "id": "mHLLZeNIKqYt",
        "outputId": "06cd3b42-8048-42cb-c36e-8f4d393df0b5"
      },
      "execution_count": 5,
      "outputs": [
        {
          "output_type": "execute_result",
          "data": {
            "text/plain": [
              "(57650, 4)"
            ]
          },
          "metadata": {},
          "execution_count": 5
        }
      ]
    },
    {
      "cell_type": "code",
      "source": [
        "data.head()"
      ],
      "metadata": {
        "colab": {
          "base_uri": "https://localhost:8080/",
          "height": 293
        },
        "id": "KZjTGlhrFq83",
        "outputId": "b138b4e2-db89-48d5-bfcd-9062e607d4b3"
      },
      "execution_count": null,
      "outputs": [
        {
          "output_type": "execute_result",
          "data": {
            "text/plain": [
              "  artist  ...                                               text\n",
              "0   ABBA  ...  Look at her face, it's a wonderful face  \\nAnd...\n",
              "1   ABBA  ...  Take it easy with me, please  \\nTouch me gentl...\n",
              "2   ABBA  ...  I'll never know why I had to go  \\nWhy I had t...\n",
              "3   ABBA  ...  Making somebody happy is a question of give an...\n",
              "4   ABBA  ...  Making somebody happy is a question of give an...\n",
              "\n",
              "[5 rows x 4 columns]"
            ],
            "text/html": [
              "\n",
              "  <div id=\"df-655e6ab7-4202-4266-928e-d16fcaeddd3a\" class=\"colab-df-container\">\n",
              "    <div>\n",
              "<style scoped>\n",
              "    .dataframe tbody tr th:only-of-type {\n",
              "        vertical-align: middle;\n",
              "    }\n",
              "\n",
              "    .dataframe tbody tr th {\n",
              "        vertical-align: top;\n",
              "    }\n",
              "\n",
              "    .dataframe thead th {\n",
              "        text-align: right;\n",
              "    }\n",
              "</style>\n",
              "<table border=\"1\" class=\"dataframe\">\n",
              "  <thead>\n",
              "    <tr style=\"text-align: right;\">\n",
              "      <th></th>\n",
              "      <th>artist</th>\n",
              "      <th>song</th>\n",
              "      <th>link</th>\n",
              "      <th>text</th>\n",
              "    </tr>\n",
              "  </thead>\n",
              "  <tbody>\n",
              "    <tr>\n",
              "      <th>0</th>\n",
              "      <td>ABBA</td>\n",
              "      <td>Ahe's My Kind Of Girl</td>\n",
              "      <td>/a/abba/ahes+my+kind+of+girl_20598417.html</td>\n",
              "      <td>Look at her face, it's a wonderful face  \\nAnd...</td>\n",
              "    </tr>\n",
              "    <tr>\n",
              "      <th>1</th>\n",
              "      <td>ABBA</td>\n",
              "      <td>Andante, Andante</td>\n",
              "      <td>/a/abba/andante+andante_20002708.html</td>\n",
              "      <td>Take it easy with me, please  \\nTouch me gentl...</td>\n",
              "    </tr>\n",
              "    <tr>\n",
              "      <th>2</th>\n",
              "      <td>ABBA</td>\n",
              "      <td>As Good As New</td>\n",
              "      <td>/a/abba/as+good+as+new_20003033.html</td>\n",
              "      <td>I'll never know why I had to go  \\nWhy I had t...</td>\n",
              "    </tr>\n",
              "    <tr>\n",
              "      <th>3</th>\n",
              "      <td>ABBA</td>\n",
              "      <td>Bang</td>\n",
              "      <td>/a/abba/bang_20598415.html</td>\n",
              "      <td>Making somebody happy is a question of give an...</td>\n",
              "    </tr>\n",
              "    <tr>\n",
              "      <th>4</th>\n",
              "      <td>ABBA</td>\n",
              "      <td>Bang-A-Boomerang</td>\n",
              "      <td>/a/abba/bang+a+boomerang_20002668.html</td>\n",
              "      <td>Making somebody happy is a question of give an...</td>\n",
              "    </tr>\n",
              "  </tbody>\n",
              "</table>\n",
              "</div>\n",
              "    <div class=\"colab-df-buttons\">\n",
              "\n",
              "  <div class=\"colab-df-container\">\n",
              "    <button class=\"colab-df-convert\" onclick=\"convertToInteractive('df-655e6ab7-4202-4266-928e-d16fcaeddd3a')\"\n",
              "            title=\"Convert this dataframe to an interactive table.\"\n",
              "            style=\"display:none;\">\n",
              "\n",
              "  <svg xmlns=\"http://www.w3.org/2000/svg\" height=\"24px\" viewBox=\"0 -960 960 960\">\n",
              "    <path d=\"M120-120v-720h720v720H120Zm60-500h600v-160H180v160Zm220 220h160v-160H400v160Zm0 220h160v-160H400v160ZM180-400h160v-160H180v160Zm440 0h160v-160H620v160ZM180-180h160v-160H180v160Zm440 0h160v-160H620v160Z\"/>\n",
              "  </svg>\n",
              "    </button>\n",
              "\n",
              "  <style>\n",
              "    .colab-df-container {\n",
              "      display:flex;\n",
              "      gap: 12px;\n",
              "    }\n",
              "\n",
              "    .colab-df-convert {\n",
              "      background-color: #E8F0FE;\n",
              "      border: none;\n",
              "      border-radius: 50%;\n",
              "      cursor: pointer;\n",
              "      display: none;\n",
              "      fill: #1967D2;\n",
              "      height: 32px;\n",
              "      padding: 0 0 0 0;\n",
              "      width: 32px;\n",
              "    }\n",
              "\n",
              "    .colab-df-convert:hover {\n",
              "      background-color: #E2EBFA;\n",
              "      box-shadow: 0px 1px 2px rgba(60, 64, 67, 0.3), 0px 1px 3px 1px rgba(60, 64, 67, 0.15);\n",
              "      fill: #174EA6;\n",
              "    }\n",
              "\n",
              "    .colab-df-buttons div {\n",
              "      margin-bottom: 4px;\n",
              "    }\n",
              "\n",
              "    [theme=dark] .colab-df-convert {\n",
              "      background-color: #3B4455;\n",
              "      fill: #D2E3FC;\n",
              "    }\n",
              "\n",
              "    [theme=dark] .colab-df-convert:hover {\n",
              "      background-color: #434B5C;\n",
              "      box-shadow: 0px 1px 3px 1px rgba(0, 0, 0, 0.15);\n",
              "      filter: drop-shadow(0px 1px 2px rgba(0, 0, 0, 0.3));\n",
              "      fill: #FFFFFF;\n",
              "    }\n",
              "  </style>\n",
              "\n",
              "    <script>\n",
              "      const buttonEl =\n",
              "        document.querySelector('#df-655e6ab7-4202-4266-928e-d16fcaeddd3a button.colab-df-convert');\n",
              "      buttonEl.style.display =\n",
              "        google.colab.kernel.accessAllowed ? 'block' : 'none';\n",
              "\n",
              "      async function convertToInteractive(key) {\n",
              "        const element = document.querySelector('#df-655e6ab7-4202-4266-928e-d16fcaeddd3a');\n",
              "        const dataTable =\n",
              "          await google.colab.kernel.invokeFunction('convertToInteractive',\n",
              "                                                    [key], {});\n",
              "        if (!dataTable) return;\n",
              "\n",
              "        const docLinkHtml = 'Like what you see? Visit the ' +\n",
              "          '<a target=\"_blank\" href=https://colab.research.google.com/notebooks/data_table.ipynb>data table notebook</a>'\n",
              "          + ' to learn more about interactive tables.';\n",
              "        element.innerHTML = '';\n",
              "        dataTable['output_type'] = 'display_data';\n",
              "        await google.colab.output.renderOutput(dataTable, element);\n",
              "        const docLink = document.createElement('div');\n",
              "        docLink.innerHTML = docLinkHtml;\n",
              "        element.appendChild(docLink);\n",
              "      }\n",
              "    </script>\n",
              "  </div>\n",
              "\n",
              "\n",
              "<div id=\"df-83a3d00a-50ce-4cc9-b9a6-a44cb08c4c31\">\n",
              "  <button class=\"colab-df-quickchart\" onclick=\"quickchart('df-83a3d00a-50ce-4cc9-b9a6-a44cb08c4c31')\"\n",
              "            title=\"Suggest charts\"\n",
              "            style=\"display:none;\">\n",
              "\n",
              "<svg xmlns=\"http://www.w3.org/2000/svg\" height=\"24px\"viewBox=\"0 0 24 24\"\n",
              "     width=\"24px\">\n",
              "    <g>\n",
              "        <path d=\"M19 3H5c-1.1 0-2 .9-2 2v14c0 1.1.9 2 2 2h14c1.1 0 2-.9 2-2V5c0-1.1-.9-2-2-2zM9 17H7v-7h2v7zm4 0h-2V7h2v10zm4 0h-2v-4h2v4z\"/>\n",
              "    </g>\n",
              "</svg>\n",
              "  </button>\n",
              "\n",
              "<style>\n",
              "  .colab-df-quickchart {\n",
              "      --bg-color: #E8F0FE;\n",
              "      --fill-color: #1967D2;\n",
              "      --hover-bg-color: #E2EBFA;\n",
              "      --hover-fill-color: #174EA6;\n",
              "      --disabled-fill-color: #AAA;\n",
              "      --disabled-bg-color: #DDD;\n",
              "  }\n",
              "\n",
              "  [theme=dark] .colab-df-quickchart {\n",
              "      --bg-color: #3B4455;\n",
              "      --fill-color: #D2E3FC;\n",
              "      --hover-bg-color: #434B5C;\n",
              "      --hover-fill-color: #FFFFFF;\n",
              "      --disabled-bg-color: #3B4455;\n",
              "      --disabled-fill-color: #666;\n",
              "  }\n",
              "\n",
              "  .colab-df-quickchart {\n",
              "    background-color: var(--bg-color);\n",
              "    border: none;\n",
              "    border-radius: 50%;\n",
              "    cursor: pointer;\n",
              "    display: none;\n",
              "    fill: var(--fill-color);\n",
              "    height: 32px;\n",
              "    padding: 0;\n",
              "    width: 32px;\n",
              "  }\n",
              "\n",
              "  .colab-df-quickchart:hover {\n",
              "    background-color: var(--hover-bg-color);\n",
              "    box-shadow: 0 1px 2px rgba(60, 64, 67, 0.3), 0 1px 3px 1px rgba(60, 64, 67, 0.15);\n",
              "    fill: var(--button-hover-fill-color);\n",
              "  }\n",
              "\n",
              "  .colab-df-quickchart-complete:disabled,\n",
              "  .colab-df-quickchart-complete:disabled:hover {\n",
              "    background-color: var(--disabled-bg-color);\n",
              "    fill: var(--disabled-fill-color);\n",
              "    box-shadow: none;\n",
              "  }\n",
              "\n",
              "  .colab-df-spinner {\n",
              "    border: 2px solid var(--fill-color);\n",
              "    border-color: transparent;\n",
              "    border-bottom-color: var(--fill-color);\n",
              "    animation:\n",
              "      spin 1s steps(1) infinite;\n",
              "  }\n",
              "\n",
              "  @keyframes spin {\n",
              "    0% {\n",
              "      border-color: transparent;\n",
              "      border-bottom-color: var(--fill-color);\n",
              "      border-left-color: var(--fill-color);\n",
              "    }\n",
              "    20% {\n",
              "      border-color: transparent;\n",
              "      border-left-color: var(--fill-color);\n",
              "      border-top-color: var(--fill-color);\n",
              "    }\n",
              "    30% {\n",
              "      border-color: transparent;\n",
              "      border-left-color: var(--fill-color);\n",
              "      border-top-color: var(--fill-color);\n",
              "      border-right-color: var(--fill-color);\n",
              "    }\n",
              "    40% {\n",
              "      border-color: transparent;\n",
              "      border-right-color: var(--fill-color);\n",
              "      border-top-color: var(--fill-color);\n",
              "    }\n",
              "    60% {\n",
              "      border-color: transparent;\n",
              "      border-right-color: var(--fill-color);\n",
              "    }\n",
              "    80% {\n",
              "      border-color: transparent;\n",
              "      border-right-color: var(--fill-color);\n",
              "      border-bottom-color: var(--fill-color);\n",
              "    }\n",
              "    90% {\n",
              "      border-color: transparent;\n",
              "      border-bottom-color: var(--fill-color);\n",
              "    }\n",
              "  }\n",
              "</style>\n",
              "\n",
              "  <script>\n",
              "    async function quickchart(key) {\n",
              "      const quickchartButtonEl =\n",
              "        document.querySelector('#' + key + ' button');\n",
              "      quickchartButtonEl.disabled = true;  // To prevent multiple clicks.\n",
              "      quickchartButtonEl.classList.add('colab-df-spinner');\n",
              "      try {\n",
              "        const charts = await google.colab.kernel.invokeFunction(\n",
              "            'suggestCharts', [key], {});\n",
              "      } catch (error) {\n",
              "        console.error('Error during call to suggestCharts:', error);\n",
              "      }\n",
              "      quickchartButtonEl.classList.remove('colab-df-spinner');\n",
              "      quickchartButtonEl.classList.add('colab-df-quickchart-complete');\n",
              "    }\n",
              "    (() => {\n",
              "      let quickchartButtonEl =\n",
              "        document.querySelector('#df-83a3d00a-50ce-4cc9-b9a6-a44cb08c4c31 button');\n",
              "      quickchartButtonEl.style.display =\n",
              "        google.colab.kernel.accessAllowed ? 'block' : 'none';\n",
              "    })();\n",
              "  </script>\n",
              "</div>\n",
              "\n",
              "    </div>\n",
              "  </div>\n"
            ],
            "application/vnd.google.colaboratory.intrinsic+json": {
              "type": "dataframe",
              "variable_name": "data",
              "summary": "{\n  \"name\": \"data\",\n  \"rows\": 57650,\n  \"fields\": [\n    {\n      \"column\": \"artist\",\n      \"properties\": {\n        \"dtype\": \"category\",\n        \"num_unique_values\": 643,\n        \"samples\": [\n          \"Ziggy Marley\",\n          \"O.A.R.\",\n          \"Styx\"\n        ],\n        \"semantic_type\": \"\",\n        \"description\": \"\"\n      }\n    },\n    {\n      \"column\": \"song\",\n      \"properties\": {\n        \"dtype\": \"string\",\n        \"num_unique_values\": 44822,\n        \"samples\": [\n          \"Surf's Up\",\n          \"Spade\",\n          \"Beautiful Lie\"\n        ],\n        \"semantic_type\": \"\",\n        \"description\": \"\"\n      }\n    },\n    {\n      \"column\": \"link\",\n      \"properties\": {\n        \"dtype\": \"string\",\n        \"num_unique_values\": 57650,\n        \"samples\": [\n          \"/w/wishbone+ash/right+or+wrong_20147150.html\",\n          \"/a/aerosmith/this+little+light+of+mine_20644484.html\",\n          \"/f/fall+out+boy/dance+dance_10113666.html\"\n        ],\n        \"semantic_type\": \"\",\n        \"description\": \"\"\n      }\n    },\n    {\n      \"column\": \"text\",\n      \"properties\": {\n        \"dtype\": \"string\",\n        \"num_unique_values\": 57494,\n        \"samples\": [\n          \"When the grey skies turn to blue  \\nAnd the dark clouds blow away  \\nIn the morning of a new life  \\nWhen the sun comes shining through  \\nWhen the grey skies turn to blue  \\nIn the morning of a new life  \\nWhen the sun comes shining through  \\nWhen the grey skies turn to blue  \\nMeet me on a bright and windy day  \\nWhen the breeze has blown  \\nThe gray skies far away  \\nHigh upon a hillside  \\nWhen the sun comes shining through  \\nAnd the grey skies turn to blue  \\nWhen the grey skies turn to blue  \\nWhen the grey skies turn to blue  \\n\\n\",\n          \"I met a girl a wonderful girl  \\nWho's really got a lot to recommend her for a girl  \\nFabulous creature without any doubt  \\nHey what am I getting so excited about  \\nShe's just a girl an everyday girl  \\nAnd yet I guess she's really rather special for a girl  \\nFor once you've seen her the others are not  \\nHey what am I getting so excited about  \\nBut so what what has she got others have not  \\nTwo eyes two lips a nose all girls have some of those  \\nBut when she looks up at me what do I see  \\nThe most enchanting face my pulse begins to race  \\nHey I met a girl a marvelous girl  \\nShe rarer than uranium and fairer than a pearl  \\nFound me a treasure and I want to shout  \\nHey what am I getting so excited about  \\nBut so what what has she got others have not  \\nTwo eyes two lips a nose all girls have some of those  \\nBut when she looks up at me what do I see  \\nThe most enchanting face my pulse begins to race  \\n(I got a girl a marvelous girl)  \\n(She rarer than uranium and fairer than a pearl)  \\nFound me a treasure and I want to shout  \\nThis is what am I getting so excited about  \\n(He met a girl) and I fell in love today\\n\\n\",\n          \"She's over by the corner  \\nGot her hands by her sides  \\nThey hit her harder harder harder  \\nTill they thought she might die  \\n  \\nWell I got a foggy notion,  \\nDo it again  \\nOver by the corner,  \\nDo it again  \\nI got my calamine lotion baby,  \\nDo it again  \\nI got a foggy notion,  \\nDo it again  \\n  \\nShe made me do something  \\nThat I never did before  \\nI rushed right down  \\nTo a flower store  \\nI bought her a bundle  \\nA beautiful batch  \\nDon't you know something,  \\nShe sent 'em right back  \\n  \\nSally Mae, Sally Mae,  \\nSally Mae, Sally Mae  \\nSally Mae, Sally Mae,  \\nSally Mae, Sally Mae\\n\\n\"\n        ],\n        \"semantic_type\": \"\",\n        \"description\": \"\"\n      }\n    }\n  ]\n}"
            }
          },
          "metadata": {},
          "execution_count": 3
        }
      ]
    },
    {
      "cell_type": "code",
      "source": [
        "vectorizer = TfidfVectorizer(analyzer='word', stop_words='english')\n"
      ],
      "metadata": {
        "id": "WwXbAf5BFvMO"
      },
      "execution_count": null,
      "outputs": []
    },
    {
      "cell_type": "code",
      "source": [
        "X = vectorizer.fit_transform(data['text'])\n"
      ],
      "metadata": {
        "id": "1-kYmZeQF7je"
      },
      "execution_count": null,
      "outputs": []
    },
    {
      "cell_type": "code",
      "source": [
        "query = \"Take it easy with me\"\n",
        "query_vec = vectorizer.transform([query])\n"
      ],
      "metadata": {
        "id": "70c2tbIaGCnw"
      },
      "execution_count": null,
      "outputs": []
    },
    {
      "cell_type": "code",
      "source": [
        "results = cosine_similarity(X, query_vec).reshape((-1,))"
      ],
      "metadata": {
        "id": "Y83B52N1GPjt"
      },
      "execution_count": null,
      "outputs": []
    },
    {
      "cell_type": "code",
      "source": [
        "print(results)"
      ],
      "metadata": {
        "colab": {
          "base_uri": "https://localhost:8080/"
        },
        "id": "d9CGYXXyGWDg",
        "outputId": "4b95e8bb-4257-420b-d170-3a5ff7f46fdd"
      },
      "execution_count": null,
      "outputs": [
        {
          "output_type": "stream",
          "name": "stdout",
          "text": [
            "[0.         0.01778747 0.         ... 0.         0.         0.        ]\n"
          ]
        }
      ]
    },
    {
      "cell_type": "code",
      "source": [
        "for i in results.argsort()[-10:][::-1]:\n",
        "  print(data.iloc[i,0],\"--\",data.iloc[i,1])"
      ],
      "metadata": {
        "colab": {
          "base_uri": "https://localhost:8080/"
        },
        "id": "PBBHXgNjGYt6",
        "outputId": "1e7402f8-80b5-4b02-b939-02a77287fec7"
      },
      "execution_count": null,
      "outputs": [
        {
          "output_type": "stream",
          "name": "stdout",
          "text": [
            "Linda Ronstadt -- It's So Easy (To Fall In Love)\n",
            "Kiss -- Easy As It Seems\n",
            "Lorde -- Easy\n",
            "Eric Clapton -- It's Easy\n",
            "Guns N' Roses -- It's So Easy\n",
            "Rolling Stones -- It's Not Easy\n",
            "Linda Ronstadt -- It's So Easy\n",
            "Frank Zappa -- Easy Meat\n",
            "Ne-Yo -- Make It Easy\n",
            "Kiss -- Easy Thing\n"
          ]
        }
      ]
    },
    {
      "cell_type": "code",
      "source": [
        "import matplotlib.pyplot as plt\n",
        "\n",
        "top_indices = results.argsort()[-10:][::-1]\n",
        "top_scores = results[top_indices]\n",
        "top_titles = data.iloc[top_indices, 1]\n",
        "\n",
        "plt.barh(top_titles, top_scores, color='skyblue', edgecolor='black')\n",
        "plt.gca().invert_yaxis()\n",
        "plt.xlabel('Cosine Similarity')\n",
        "plt.ylabel('Song Title')\n",
        "plt.title('Top 10 Similar Songs')\n",
        "plt.show()\n"
      ],
      "metadata": {
        "colab": {
          "base_uri": "https://localhost:8080/",
          "height": 472
        },
        "id": "TlT3DRGEH9qw",
        "outputId": "029846bb-cdb4-4b5e-cb5f-f7281fc6341a"
      },
      "execution_count": null,
      "outputs": [
        {
          "output_type": "display_data",
          "data": {
            "text/plain": [
              "<Figure size 640x480 with 1 Axes>"
            ],
            "image/png": "[encoded data removed]"
          },
          "metadata": {}
        }
      ]
    },
    {
      "cell_type": "code",
      "source": [
        "import pandas as pd\n",
        "from sklearn.feature_extraction.text import TfidfVectorizer\n",
        "import pickle\n",
        "\n",
        "\n",
        "# load the dataset\n",
        "\n",
        "data = pd.read_csv('songdata.csv')\n",
        "\n",
        "\n",
        "#Vectorize the text column\n",
        "\n",
        "vectorizer = TfidfVectorizer(analyzer='word',stop_words='english')\n",
        "tfidf_matrix = vectorizer.fit_transform(data['text'])\n",
        "\n",
        "\n",
        "#save the vectorizer and tfidf matrix\n",
        "with open('model/tfidf_vectorizer.pkl','wb') as f:\n",
        "    pickle.dump(vectorizer, f)\n",
        "with open('model/tfidf_matrix.pkl', 'wb') as f:\n",
        "    pickle.dump(tfidf_matrix, f)"
      ],
      "metadata": {
        "id": "tVS6NxUYLUDQ"
      },
      "execution_count": null,
      "outputs": []
    },
    {
      "cell_type": "code",
      "source": [
        "pip install nltk"
      ],
      "metadata": {
        "colab": {
          "base_uri": "https://localhost:8080/"
        },
        "id": "yApIiQ_pPcj6",
        "outputId": "b00e58b0-d772-4265-f01e-a21fe2edb69a"
      },
      "execution_count": 11,
      "outputs": [
        {
          "output_type": "stream",
          "name": "stdout",
          "text": [
            "Requirement already satisfied: nltk in /usr/local/lib/python3.10/dist-packages (3.9.1)\n",
            "Requirement already satisfied: click in /usr/local/lib/python3.10/dist-packages (from nltk) (8.1.7)\n",
            "Requirement already satisfied: joblib in /usr/local/lib/python3.10/dist-packages (from nltk) (1.4.2)\n",
            "Requirement already satisfied: regex>=2021.8.3 in /usr/local/lib/python3.10/dist-packages (from nltk) (2024.11.6)\n",
            "Requirement already satisfied: tqdm in /usr/local/lib/python3.10/dist-packages (from nltk) (4.67.1)\n"
          ]
        }
      ]
    },
    {
      "cell_type": "code",
      "source": [
        "import pandas as pd\n",
        "\n",
        "# Load the dataset\n",
        "data = pd.read_csv('songdata.csv')\n",
        "\n",
        "# Combine 'title', 'artist', and 'text' into a single string, lowercased\n",
        "data['tags'] = (data['song'].str.lower() + \" \" +\n",
        "                data['artist'].str.lower() + \" \" +\n",
        "                data['text'].str.lower())\n",
        "\n",
        "# Show the first few rows of the dataset\n",
        "print(data.head())\n"
      ],
      "metadata": {
        "colab": {
          "base_uri": "https://localhost:8080/"
        },
        "id": "g7LSjr2VVKzu",
        "outputId": "fc0b43ad-c7a2-4f85-e95a-55576649e91d"
      },
      "execution_count": 15,
      "outputs": [
        {
          "output_type": "stream",
          "name": "stdout",
          "text": [
            "  artist                   song                                        link  \\\n",
            "0   ABBA  Ahe's My Kind Of Girl  /a/abba/ahes+my+kind+of+girl_20598417.html   \n",
            "1   ABBA       Andante, Andante       /a/abba/andante+andante_20002708.html   \n",
            "2   ABBA         As Good As New        /a/abba/as+good+as+new_20003033.html   \n",
            "3   ABBA                   Bang                  /a/abba/bang_20598415.html   \n",
            "4   ABBA       Bang-A-Boomerang      /a/abba/bang+a+boomerang_20002668.html   \n",
            "\n",
            "                                                text  \\\n",
            "0  Look at her face, it's a wonderful face  \\nAnd...   \n",
            "1  Take it easy with me, please  \\nTouch me gentl...   \n",
            "2  I'll never know why I had to go  \\nWhy I had t...   \n",
            "3  Making somebody happy is a question of give an...   \n",
            "4  Making somebody happy is a question of give an...   \n",
            "\n",
            "                                                tags  \n",
            "0  ahe's my kind of girl abba look at her face, i...  \n",
            "1  andante, andante abba take it easy with me, pl...  \n",
            "2  as good as new abba i'll never know why i had ...  \n",
            "3  bang abba making somebody happy is a question ...  \n",
            "4  bang-a-boomerang abba making somebody happy is...  \n"
          ]
        }
      ]
    },
    {
      "cell_type": "code",
      "source": [
        "import nltk\n",
        "from nltk.tokenize import word_tokenize\n",
        "from gensim.models import Word2Vec\n",
        "\n",
        "# Ensure NLTK tokenizer is available\n",
        "nltk.download('punkt_tab')\n",
        "\n",
        "# Tokenize the 'tags' field\n",
        "data['tokens'] = data['tags'].apply(lambda x: word_tokenize(x))\n",
        "\n",
        "# Train the Word2Vec model\n",
        "model = Word2Vec(data['tokens'], vector_size=100, window=5, min_count=1, workers=4)\n",
        "\n",
        "# Test: print the vector for a word (e.g., 'love')\n",
        "print(model.wv['love'])\n"
      ],
      "metadata": {
        "colab": {
          "base_uri": "https://localhost:8080/"
        },
        "id": "aL1mDQmSVTTh",
        "outputId": "430e93bc-16d9-40e1-ad20-988a5f7b1227"
      },
      "execution_count": 16,
      "outputs": [
        {
          "output_type": "stream",
          "name": "stderr",
          "text": [
            "[nltk_data] Downloading package punkt_tab to /root/nltk_data...\n",
            "[nltk_data]   Package punkt_tab is already up-to-date!\n"
          ]
        },
        {
          "output_type": "stream",
          "name": "stdout",
          "text": [
            "[-3.0401118  -0.99168855  0.40140578 -1.3224481   1.7040854  -1.8753844\n",
            " -1.1629184   2.0956585   1.3200724  -0.42429444  0.23391108  0.53888506\n",
            " -2.1162264   2.3775618   1.8986623  -2.273752    0.99711365  1.311678\n",
            "  1.5369116  -0.14142677  0.3899919  -0.79125506 -1.1331302  -1.2961767\n",
            " -1.556437    4.7265105  -1.406691   -0.940837    4.838857   -1.1844642\n",
            "  2.4189732   1.8093891  -3.1249382  -0.56343484  1.4430424  -0.70769334\n",
            "  2.2376385   0.3882107   0.3050132  -0.21421681  2.327828    0.86631256\n",
            "  1.3142915  -1.3886015  -0.5664674  -1.4461311  -1.4450636  -0.50614846\n",
            "  2.7201672  -1.4239755  -2.92223     1.1181877   1.2295845  -0.0095689\n",
            " -1.2921193  -0.6068125   0.28083965 -0.10349649  2.5837257  -0.30613494\n",
            "  1.2519156  -2.0401564   0.71030337 -0.826163   -0.51104534 -4.349272\n",
            "  1.8250818   1.6225104   0.5703217   0.8477792  -0.47403848  0.3698882\n",
            " -3.584797    0.5789798  -0.441706    0.7924758  -0.3406499  -0.87664586\n",
            " -2.6933098   0.530423   -1.4837593  -1.2044045   1.0323217  -2.0993767\n",
            " -2.90009     0.3428335  -3.9714308  -0.43676755  0.9873644   0.9620363\n",
            "  1.4595389   1.7270906   2.8199291   0.48069492 -0.9352653  -2.9421973\n",
            " -0.27566785  2.131216    0.6181314   2.6903675 ]\n"
          ]
        }
      ]
    },
    {
      "cell_type": "code",
      "source": [
        "import sqlite3\n",
        "import json\n",
        "import numpy as np\n",
        "\n",
        "# Connect to SQLite database (it will create the file if it doesn't exist)\n",
        "conn = sqlite3.connect('songdata.db')\n",
        "cursor = conn.cursor()\n",
        "\n",
        "# Create the songs table\n",
        "cursor.execute('''\n",
        "CREATE TABLE IF NOT EXISTS songs (\n",
        "    id INTEGER PRIMARY KEY AUTOINCREMENT,\n",
        "    song TEXT,\n",
        "    artist TEXT,\n",
        "    text TEXT,\n",
        "    tags TEXT,\n",
        "    tag_vector TEXT\n",
        ")\n",
        "''')\n",
        "\n",
        "# Function to convert vector to JSON string for storage\n",
        "def vector_to_json(vector):\n",
        "    return json.dumps(vector.tolist())\n",
        "\n",
        "# Insert song data along with vectors into the SQLite database\n",
        "for _, row in data.iterrows():\n",
        "    # Get the vector for the 'tags' field (average of the word vectors for the tokens)\n",
        "    tag_vector = np.mean([model.wv[token] for token in row['tokens'] if token in model.wv], axis=0)\n",
        "\n",
        "    # Convert the vector to a JSON string\n",
        "    tag_vector_json = vector_to_json(tag_vector)\n",
        "\n",
        "    # Insert the song data\n",
        "    cursor.execute('''\n",
        "    INSERT INTO songs (song, artist, text, tags, tag_vector)\n",
        "    VALUES (?, ?, ?, ?, ?)\n",
        "    ''', (row['song'], row['artist'], row['text'], row['tags'], tag_vector_json))\n",
        "\n",
        "# Commit the transaction\n",
        "conn.commit()\n"
      ],
      "metadata": {
        "id": "gKsrgPVPVZv3"
      },
      "execution_count": 17,
      "outputs": []
    },
    {
      "cell_type": "code",
      "source": [
        "from sklearn.metrics.pairwise import cosine_similarity\n",
        "import numpy as np\n",
        "\n",
        "# Fetch all songs and their tag vectors from the SQLite database\n",
        "cursor.execute('SELECT song, artist, text, tags, tag_vector FROM songs')\n",
        "songs_data = cursor.fetchall()\n",
        "\n",
        "# Convert the tag_vector from JSON string to a numpy array\n",
        "song_vectors = []\n",
        "songs = []\n",
        "for song in songs_data:\n",
        "    song_title, artist, text, tags, tag_vector_json = song\n",
        "    tag_vector = json.loads(tag_vector_json)  # Deserialize the vector from JSON string\n",
        "    song_vectors.append(tag_vector)\n",
        "    songs.append({'title': song_title, 'artist': artist, 'text': text, 'tags': tags})\n",
        "\n",
        "# Convert the list of vectors into a numpy array for cosine similarity calculation\n",
        "song_vectors = np.array(song_vectors)\n",
        "\n",
        "# Function to search for the most similar songs\n",
        "def search_similar_songs(query, top_n=10):\n",
        "    # Tokenize the query\n",
        "    query_tokens = word_tokenize(query.lower())  # Lowercased query and tokenize\n",
        "    query_vector = np.mean([model.wv[token] for token in query_tokens if token in model.wv], axis=0)\n",
        "\n",
        "    if query_vector is None:\n",
        "        print(\"No valid tokens found in the query.\")\n",
        "        return\n",
        "\n",
        "    # Compute cosine similarity between the query vector and the song vectors\n",
        "    similarities = cosine_similarity([query_vector], song_vectors).flatten()\n",
        "\n",
        "    # Get the top N most similar songs\n",
        "    top_indices = similarities.argsort()[-top_n:][::-1]\n",
        "    for idx in top_indices:\n",
        "        song = songs[idx]\n",
        "        print(f\"Song: {song['title']} | Artist: {song['artist']} | Similarity: {similarities[idx]:.4f}\")\n",
        "\n",
        "# Test the search with a query\n",
        "query = \"Take it easy with me\"\n",
        "search_similar_songs(query)\n",
        "\n",
        "# Close the database connection\n",
        "conn.close()\n"
      ],
      "metadata": {
        "colab": {
          "base_uri": "https://localhost:8080/"
        },
        "id": "ME_8H3epW-gJ",
        "outputId": "4a07f808-1ae2-44f4-8a16-b44163f256d4"
      },
      "execution_count": 18,
      "outputs": [
        {
          "output_type": "stream",
          "name": "stdout",
          "text": [
            "Song: Easy Slow | Artist: Nitty Gritty Dirt Band | Similarity: 0.8987\n",
            "Song: Easy Come, Easy Go | Artist: Elvis Presley | Similarity: 0.8981\n",
            "Song: Easy | Artist: Lorde | Similarity: 0.8920\n",
            "Song: Easy Rider | Artist: Chris Rea | Similarity: 0.8918\n",
            "Song: Take It Easy | Artist: Jackson Browne | Similarity: 0.8879\n",
            "Song: Easy, Come On | Artist: Kris Kristofferson | Similarity: 0.8877\n",
            "Song: Talk To Me | Artist: Nirvana | Similarity: 0.8865\n",
            "Song: Can't Take It With You | Artist: Allman Brothers Band | Similarity: 0.8854\n",
            "Song: Let Me Go Easy | Artist: Indigo Girls | Similarity: 0.8849\n",
            "Song: Take It All | Artist: Adele | Similarity: 0.8824\n"
          ]
        }
      ]
    }
  ]
}